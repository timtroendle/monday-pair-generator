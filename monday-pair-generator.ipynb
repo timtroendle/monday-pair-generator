{
 "cells": [
  {
   "cell_type": "code",
   "execution_count": null,
   "metadata": {},
   "outputs": [],
   "source": [
    "from itertools import combinations, chain\n",
    "from datetime import date, timedelta\n",
    "import random\n",
    "import time"
   ]
  },
  {
   "cell_type": "code",
   "execution_count": null,
   "metadata": {},
   "outputs": [],
   "source": [
    "def valid_combo(combo):\n",
    "    \"\"\"A combo is valid if no person is twice inside it.\"\"\"\n",
    "    people = list(chain(*combo))\n",
    "    return len(people) == len(set(people))\n",
    "\n",
    "\n",
    "def following_monday(day):\n",
    "    if day.weekday() is 0:\n",
    "        return day + timedelta(hours=24*7)\n",
    "    else:\n",
    "        while day.weekday() is not 0:\n",
    "            day = day + timedelta(hours=24)\n",
    "        return day\n",
    "\n",
    "    \n",
    "def announce_result(final_combos):\n",
    "    day = date.today()\n",
    "    for i, combo in enumerate(final_combos, 1):\n",
    "        day = following_monday(day)\n",
    "        print(f\"Week {i}: {day}\")\n",
    "        time.sleep(2)\n",
    "        for pair in combo:\n",
    "            print(f\"     {pair[0]} + {pair[1]}\")\n",
    "        print()\n",
    "        \n",
    "\n",
    "def combos_without_duplicate_pairs(combos):\n",
    "    \"\"\"Make sure no pairs sees each other more than once.\"\"\"\n",
    "    known_pairs = []\n",
    "    combos_without_dup = []\n",
    "    for combo in combos:\n",
    "        if any(pair in known_pairs for pair in combo):\n",
    "            # some pairs already known; skip\n",
    "            continue\n",
    "        known_pairs.extend(combo)\n",
    "        combos_without_dup.append(combo)\n",
    "    return combos_without_dup"
   ]
  },
  {
   "cell_type": "markdown",
   "metadata": {},
   "source": [
    "# Non repeating Monday pairs\n",
    "\n",
    "Let's form pairs of people for the following Mondays randomly and without any pair meeting twice."
   ]
  },
  {
   "cell_type": "markdown",
   "metadata": {},
   "source": [
    "First, here are the people:"
   ]
  },
  {
   "cell_type": "code",
   "execution_count": null,
   "metadata": {},
   "outputs": [],
   "source": [
    "names = [\"Johan\", \"Ana\", \"Lana\", \"Richard\", \"Marc\", \"Tim\"]"
   ]
  },
  {
   "cell_type": "markdown",
   "metadata": {},
   "source": [
    "Now, let's shuffle them to add some randomness:"
   ]
  },
  {
   "cell_type": "code",
   "execution_count": null,
   "metadata": {},
   "outputs": [],
   "source": [
    "random.shuffle(names)\n",
    "print(names)"
   ]
  },
  {
   "cell_type": "markdown",
   "metadata": {},
   "source": [
    "Next, here are all pairs that will meet in the coming weeks:"
   ]
  },
  {
   "cell_type": "code",
   "execution_count": null,
   "metadata": {},
   "outputs": [],
   "source": [
    "list(combinations(names, 2))"
   ]
  },
  {
   "cell_type": "markdown",
   "metadata": {},
   "source": [
    "Nice, and now form all combinations of those pairs. Then, remove combos that aren't possible --- were people are in two pairs at the same time --- or those where pairs meet more than once."
   ]
  },
  {
   "cell_type": "code",
   "execution_count": null,
   "metadata": {},
   "outputs": [],
   "source": [
    "combos = combos_without_duplicate_pairs(filter(valid_combo, combinations(combinations(names, 2), 3)))"
   ]
  },
  {
   "cell_type": "code",
   "execution_count": null,
   "metadata": {},
   "outputs": [],
   "source": [
    "announce_result(combos)"
   ]
  },
  {
   "cell_type": "code",
   "execution_count": null,
   "metadata": {},
   "outputs": [],
   "source": []
  }
 ],
 "metadata": {
  "kernelspec": {
   "display_name": "Python 3",
   "language": "python",
   "name": "python3"
  },
  "language_info": {
   "codemirror_mode": {
    "name": "ipython",
    "version": 3
   },
   "file_extension": ".py",
   "mimetype": "text/x-python",
   "name": "python",
   "nbconvert_exporter": "python",
   "pygments_lexer": "ipython3",
   "version": "3.6.5"
  }
 },
 "nbformat": 4,
 "nbformat_minor": 2
}
